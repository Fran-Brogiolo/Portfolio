{
 "cells": [
  {
   "cell_type": "markdown",
   "metadata": {
    "id": "LYvAOR2VzHmW"
   },
   "source": [
    "\n",
    "**Diplomatura en Ciencia de Datos, Aprendizaje Automático y sus Aplicaciones**\n",
    "\n",
    "**Edición 2023**\n",
    "\n",
    "---\n",
    "\n",
    "# Trabajo práctico entregable - Parte 2"
   ]
  },
  {
   "cell_type": "code",
   "execution_count": 1,
   "metadata": {
    "executionInfo": {
     "elapsed": 1967,
     "status": "ok",
     "timestamp": 1683855340202,
     "user": {
      "displayName": "FRANCISCO BROGIOLO",
      "userId": "09600769728851079113"
     },
     "user_tz": 180
    },
    "id": "Xwdfo7z20TUK"
   },
   "outputs": [],
   "source": [
    "import io\n",
    "import matplotlib\n",
    "import matplotlib.pyplot as plt\n",
    "import numpy\n",
    "import pandas as pd\n",
    "import seaborn\n",
    "import scipy.stats as stats\n",
    "seaborn.set_context('talk')"
   ]
  },
  {
   "cell_type": "markdown",
   "metadata": {
    "id": "XY2Hl-Ma07Nn"
   },
   "source": [
    "## Lectura del dataset\n",
    "\n",
    "En la notebook 00 se explican los detalles de la siguiente sección."
   ]
  },
  {
   "cell_type": "code",
   "execution_count": 2,
   "metadata": {
    "executionInfo": {
     "elapsed": 1138,
     "status": "ok",
     "timestamp": 1683855341328,
     "user": {
      "displayName": "FRANCISCO BROGIOLO",
      "userId": "09600769728851079113"
     },
     "user_tz": 180
    },
    "id": "Vviv_sqXdR5W"
   },
   "outputs": [],
   "source": [
    "url = 'https://raw.githubusercontent.com/DiploDatos/AnalisisyVisualizacion/master/sysarmy_survey_2022_processed.csv'\n",
    "df = pd.read_csv(url)"
   ]
  },
  {
   "cell_type": "code",
   "execution_count": 3,
   "metadata": {
    "colab": {
     "base_uri": "https://localhost:8080/",
     "height": 0
    },
    "executionInfo": {
     "elapsed": 22,
     "status": "ok",
     "timestamp": 1683855341328,
     "user": {
      "displayName": "FRANCISCO BROGIOLO",
      "userId": "09600769728851079113"
     },
     "user_tz": 180
    },
    "id": "gckNHXXLktJ4",
    "outputId": "22830fda-6937-4ed7-88d2-a4beef1f910f"
   },
   "outputs": [
    {
     "data": {
      "text/html": [
       "<div>\n",
       "<style scoped>\n",
       "    .dataframe tbody tr th:only-of-type {\n",
       "        vertical-align: middle;\n",
       "    }\n",
       "\n",
       "    .dataframe tbody tr th {\n",
       "        vertical-align: top;\n",
       "    }\n",
       "\n",
       "    .dataframe thead th {\n",
       "        text-align: right;\n",
       "    }\n",
       "</style>\n",
       "<table border=\"1\" class=\"dataframe\">\n",
       "  <thead>\n",
       "    <tr style=\"text-align: right;\">\n",
       "      <th></th>\n",
       "      <th>work_country</th>\n",
       "      <th>work_province</th>\n",
       "      <th>work_dedication</th>\n",
       "      <th>work_contract_type</th>\n",
       "      <th>salary_monthly_BRUTO</th>\n",
       "      <th>salary_monthly_NETO</th>\n",
       "      <th>numero</th>\n",
       "      <th>salary_in_usd</th>\n",
       "      <th>salary_last_dollar_value</th>\n",
       "      <th>salary_pay_cripto</th>\n",
       "      <th>...</th>\n",
       "      <th>profile_studies_level_state</th>\n",
       "      <th>profile_career</th>\n",
       "      <th>profile_university</th>\n",
       "      <th>profile_boot_camp</th>\n",
       "      <th>profile_boot_camp_carrer</th>\n",
       "      <th>work_on_call_duty</th>\n",
       "      <th>salary_on_call_duty_charge</th>\n",
       "      <th>work_on_call_duty_charge_type</th>\n",
       "      <th>profile_age</th>\n",
       "      <th>profile_gender</th>\n",
       "    </tr>\n",
       "  </thead>\n",
       "  <tbody>\n",
       "    <tr>\n",
       "      <th>0</th>\n",
       "      <td>Argentina</td>\n",
       "      <td>Catamarca</td>\n",
       "      <td>Full-Time</td>\n",
       "      <td>Staff (planta permanente)</td>\n",
       "      <td>300000.0</td>\n",
       "      <td>245000.0</td>\n",
       "      <td>True</td>\n",
       "      <td>NaN</td>\n",
       "      <td>NaN</td>\n",
       "      <td>NaN</td>\n",
       "      <td>...</td>\n",
       "      <td>Completo</td>\n",
       "      <td>Licenciatura en redes y comunicación de datos</td>\n",
       "      <td>UP - Universidad de Palermo</td>\n",
       "      <td>NaN</td>\n",
       "      <td>NaN</td>\n",
       "      <td>NaN</td>\n",
       "      <td>NaN</td>\n",
       "      <td>NaN</td>\n",
       "      <td>35</td>\n",
       "      <td>Varón Cis</td>\n",
       "    </tr>\n",
       "    <tr>\n",
       "      <th>1</th>\n",
       "      <td>Argentina</td>\n",
       "      <td>Chaco</td>\n",
       "      <td>Full-Time</td>\n",
       "      <td>Remoto (empresa de otro país)</td>\n",
       "      <td>900000.0</td>\n",
       "      <td>850000.0</td>\n",
       "      <td>True</td>\n",
       "      <td>Cobro todo el salario en dólares</td>\n",
       "      <td>300</td>\n",
       "      <td>NaN</td>\n",
       "      <td>...</td>\n",
       "      <td>NaN</td>\n",
       "      <td>NaN</td>\n",
       "      <td>NaN</td>\n",
       "      <td>NaN</td>\n",
       "      <td>NaN</td>\n",
       "      <td>NaN</td>\n",
       "      <td>NaN</td>\n",
       "      <td>NaN</td>\n",
       "      <td>31</td>\n",
       "      <td>Varón Cis</td>\n",
       "    </tr>\n",
       "    <tr>\n",
       "      <th>2</th>\n",
       "      <td>Argentina</td>\n",
       "      <td>Chaco</td>\n",
       "      <td>Full-Time</td>\n",
       "      <td>Staff (planta permanente)</td>\n",
       "      <td>120000.0</td>\n",
       "      <td>115000.0</td>\n",
       "      <td>True</td>\n",
       "      <td>NaN</td>\n",
       "      <td>NaN</td>\n",
       "      <td>NaN</td>\n",
       "      <td>...</td>\n",
       "      <td>NaN</td>\n",
       "      <td>NaN</td>\n",
       "      <td>NaN</td>\n",
       "      <td>NaN</td>\n",
       "      <td>NaN</td>\n",
       "      <td>NaN</td>\n",
       "      <td>NaN</td>\n",
       "      <td>NaN</td>\n",
       "      <td>27</td>\n",
       "      <td>Varón Cis</td>\n",
       "    </tr>\n",
       "  </tbody>\n",
       "</table>\n",
       "<p>3 rows × 44 columns</p>\n",
       "</div>"
      ],
      "text/plain": [
       "  work_country work_province work_dedication             work_contract_type  \\\n",
       "0    Argentina     Catamarca       Full-Time      Staff (planta permanente)   \n",
       "1    Argentina         Chaco       Full-Time  Remoto (empresa de otro país)   \n",
       "2    Argentina         Chaco       Full-Time      Staff (planta permanente)   \n",
       "\n",
       "   salary_monthly_BRUTO  salary_monthly_NETO  numero  \\\n",
       "0              300000.0             245000.0    True   \n",
       "1              900000.0             850000.0    True   \n",
       "2              120000.0             115000.0    True   \n",
       "\n",
       "                      salary_in_usd salary_last_dollar_value  \\\n",
       "0                               NaN                      NaN   \n",
       "1  Cobro todo el salario en dólares                      300   \n",
       "2                               NaN                      NaN   \n",
       "\n",
       "  salary_pay_cripto  ... profile_studies_level_state  \\\n",
       "0               NaN  ...                    Completo   \n",
       "1               NaN  ...                         NaN   \n",
       "2               NaN  ...                         NaN   \n",
       "\n",
       "                                  profile_career           profile_university  \\\n",
       "0  Licenciatura en redes y comunicación de datos  UP - Universidad de Palermo   \n",
       "1                                            NaN                          NaN   \n",
       "2                                            NaN                          NaN   \n",
       "\n",
       "  profile_boot_camp profile_boot_camp_carrer work_on_call_duty  \\\n",
       "0               NaN                      NaN               NaN   \n",
       "1               NaN                      NaN               NaN   \n",
       "2               NaN                      NaN               NaN   \n",
       "\n",
       "   salary_on_call_duty_charge work_on_call_duty_charge_type  profile_age  \\\n",
       "0                         NaN                           NaN           35   \n",
       "1                         NaN                           NaN           31   \n",
       "2                         NaN                           NaN           27   \n",
       "\n",
       "  profile_gender  \n",
       "0      Varón Cis  \n",
       "1      Varón Cis  \n",
       "2      Varón Cis  \n",
       "\n",
       "[3 rows x 44 columns]"
      ]
     },
     "execution_count": 3,
     "metadata": {},
     "output_type": "execute_result"
    }
   ],
   "source": [
    "df[:3]"
   ]
  },
  {
   "cell_type": "code",
   "execution_count": 4,
   "metadata": {
    "colab": {
     "base_uri": "https://localhost:8080/"
    },
    "executionInfo": {
     "elapsed": 21,
     "status": "ok",
     "timestamp": 1683855341329,
     "user": {
      "displayName": "FRANCISCO BROGIOLO",
      "userId": "09600769728851079113"
     },
     "user_tz": 180
    },
    "id": "BxFBTUsttpX4",
    "outputId": "cc660d77-d53f-40f2-f6d3-c9bd1f17829b"
   },
   "outputs": [
    {
     "data": {
      "text/plain": [
       "array(['Varón Cis', 'Varón cis', 'Mujer Cis', 'Mujer', 'Varón Trans',\n",
       "       'Queer', 'No binarie', 'Mujer cis', 'Mujer Trans', 'mujer', 'Gay',\n",
       "       'Fluido', 'Bigénero', 'Femenino'], dtype=object)"
      ]
     },
     "execution_count": 4,
     "metadata": {},
     "output_type": "execute_result"
    }
   ],
   "source": [
    "#valores o categorias que toma el atributo profile_gender\n",
    "df.profile_gender.unique()"
   ]
  },
  {
   "cell_type": "code",
   "execution_count": 5,
   "metadata": {
    "executionInfo": {
     "elapsed": 20,
     "status": "ok",
     "timestamp": 1683855341329,
     "user": {
      "displayName": "FRANCISCO BROGIOLO",
      "userId": "09600769728851079113"
     },
     "user_tz": 180
    },
    "id": "pJjMneUJtr1H"
   },
   "outputs": [],
   "source": [
    "#Dicc para que se dividan solamente en varon cis, mujer cis y diversidades\n",
    "df.loc[:,'profile_g'] = df.profile_gender.replace({'Varón Cis': 'Varón cis','Mujer': 'Mujer cis','Mujer Cis': 'Mujer cis','Femenino': 'Mujer cis','mujer': 'Mujer cis','Mujer':'Mujer cis','Queer':'Diversidades','Varón Trans':'Diversidades','No binarie':'Diversidades','Mujer Trans':'Diversidades','Fluido':'Diversidades','Bigénero':'Diversidades','Gay':'Diversidades'}).fillna(False)"
   ]
  },
  {
   "cell_type": "code",
   "execution_count": 6,
   "metadata": {
    "colab": {
     "base_uri": "https://localhost:8080/"
    },
    "executionInfo": {
     "elapsed": 20,
     "status": "ok",
     "timestamp": 1683855341329,
     "user": {
      "displayName": "FRANCISCO BROGIOLO",
      "userId": "09600769728851079113"
     },
     "user_tz": 180
    },
    "id": "2QhWCZwxtu45",
    "outputId": "4c467474-fb2f-447d-edcf-801acff9f8ca"
   },
   "outputs": [
    {
     "data": {
      "text/plain": [
       "array(['Varón cis', 'Mujer cis', 'Diversidades'], dtype=object)"
      ]
     },
     "execution_count": 6,
     "metadata": {},
     "output_type": "execute_result"
    }
   ],
   "source": [
    "df.profile_g.unique()"
   ]
  },
  {
   "cell_type": "code",
   "execution_count": 7,
   "metadata": {
    "colab": {
     "base_uri": "https://localhost:8080/",
     "height": 0
    },
    "executionInfo": {
     "elapsed": 20,
     "status": "ok",
     "timestamp": 1683855341329,
     "user": {
      "displayName": "FRANCISCO BROGIOLO",
      "userId": "09600769728851079113"
     },
     "user_tz": 180
    },
    "id": "2lzmzK1NuPNT",
    "outputId": "de81b882-d87c-431e-d789-7cbb2dcaecd8"
   },
   "outputs": [
    {
     "data": {
      "text/html": [
       "<div>\n",
       "<style scoped>\n",
       "    .dataframe tbody tr th:only-of-type {\n",
       "        vertical-align: middle;\n",
       "    }\n",
       "\n",
       "    .dataframe tbody tr th {\n",
       "        vertical-align: top;\n",
       "    }\n",
       "\n",
       "    .dataframe thead tr th {\n",
       "        text-align: left;\n",
       "    }\n",
       "\n",
       "    .dataframe thead tr:last-of-type th {\n",
       "        text-align: right;\n",
       "    }\n",
       "</style>\n",
       "<table border=\"1\" class=\"dataframe\">\n",
       "  <thead>\n",
       "    <tr>\n",
       "      <th></th>\n",
       "      <th colspan=\"8\" halign=\"left\">salary_monthly_NETO</th>\n",
       "    </tr>\n",
       "    <tr>\n",
       "      <th></th>\n",
       "      <th>count</th>\n",
       "      <th>mean</th>\n",
       "      <th>std</th>\n",
       "      <th>min</th>\n",
       "      <th>25%</th>\n",
       "      <th>50%</th>\n",
       "      <th>75%</th>\n",
       "      <th>max</th>\n",
       "    </tr>\n",
       "    <tr>\n",
       "      <th>profile_g</th>\n",
       "      <th></th>\n",
       "      <th></th>\n",
       "      <th></th>\n",
       "      <th></th>\n",
       "      <th></th>\n",
       "      <th></th>\n",
       "      <th></th>\n",
       "      <th></th>\n",
       "    </tr>\n",
       "  </thead>\n",
       "  <tbody>\n",
       "    <tr>\n",
       "      <th>Diversidades</th>\n",
       "      <td>98.0</td>\n",
       "      <td>261873.543041</td>\n",
       "      <td>356719.368150</td>\n",
       "      <td>0.0</td>\n",
       "      <td>90500.0</td>\n",
       "      <td>174448.5</td>\n",
       "      <td>262250.0</td>\n",
       "      <td>1950000.0</td>\n",
       "    </tr>\n",
       "    <tr>\n",
       "      <th>Mujer cis</th>\n",
       "      <td>929.0</td>\n",
       "      <td>188903.430667</td>\n",
       "      <td>184912.713803</td>\n",
       "      <td>0.0</td>\n",
       "      <td>91000.0</td>\n",
       "      <td>160000.0</td>\n",
       "      <td>237003.0</td>\n",
       "      <td>1878500.0</td>\n",
       "    </tr>\n",
       "    <tr>\n",
       "      <th>Varón cis</th>\n",
       "      <td>4331.0</td>\n",
       "      <td>296252.343889</td>\n",
       "      <td>433193.328154</td>\n",
       "      <td>0.0</td>\n",
       "      <td>125000.0</td>\n",
       "      <td>212146.0</td>\n",
       "      <td>307988.0</td>\n",
       "      <td>15000000.0</td>\n",
       "    </tr>\n",
       "  </tbody>\n",
       "</table>\n",
       "</div>"
      ],
      "text/plain": [
       "             salary_monthly_NETO                                               \\\n",
       "                           count           mean            std  min       25%   \n",
       "profile_g                                                                       \n",
       "Diversidades                98.0  261873.543041  356719.368150  0.0   90500.0   \n",
       "Mujer cis                  929.0  188903.430667  184912.713803  0.0   91000.0   \n",
       "Varón cis                 4331.0  296252.343889  433193.328154  0.0  125000.0   \n",
       "\n",
       "                                              \n",
       "                   50%       75%         max  \n",
       "profile_g                                     \n",
       "Diversidades  174448.5  262250.0   1950000.0  \n",
       "Mujer cis     160000.0  237003.0   1878500.0  \n",
       "Varón cis     212146.0  307988.0  15000000.0  "
      ]
     },
     "execution_count": 7,
     "metadata": {},
     "output_type": "execute_result"
    }
   ],
   "source": [
    "#Medidas de ubicacion, dispersion de los salarios netos de cada grupo que pertenece al atributo 'profile_g'\n",
    "\n",
    "df[['profile_g', 'salary_monthly_NETO']].groupby('profile_g').describe()"
   ]
  },
  {
   "cell_type": "code",
   "execution_count": 8,
   "metadata": {
    "colab": {
     "base_uri": "https://localhost:8080/",
     "height": 0
    },
    "executionInfo": {
     "elapsed": 20,
     "status": "ok",
     "timestamp": 1683855341330,
     "user": {
      "displayName": "FRANCISCO BROGIOLO",
      "userId": "09600769728851079113"
     },
     "user_tz": 180
    },
    "id": "pycKJ5jWkShW",
    "outputId": "4f11c32e-c837-4935-f59f-1154510f8100"
   },
   "outputs": [
    {
     "data": {
      "text/html": [
       "<div>\n",
       "<style scoped>\n",
       "    .dataframe tbody tr th:only-of-type {\n",
       "        vertical-align: middle;\n",
       "    }\n",
       "\n",
       "    .dataframe tbody tr th {\n",
       "        vertical-align: top;\n",
       "    }\n",
       "\n",
       "    .dataframe thead tr th {\n",
       "        text-align: left;\n",
       "    }\n",
       "\n",
       "    .dataframe thead tr:last-of-type th {\n",
       "        text-align: right;\n",
       "    }\n",
       "</style>\n",
       "<table border=\"1\" class=\"dataframe\">\n",
       "  <thead>\n",
       "    <tr>\n",
       "      <th></th>\n",
       "      <th colspan=\"8\" halign=\"left\">salary_monthly_NETO</th>\n",
       "    </tr>\n",
       "    <tr>\n",
       "      <th></th>\n",
       "      <th>count</th>\n",
       "      <th>mean</th>\n",
       "      <th>std</th>\n",
       "      <th>min</th>\n",
       "      <th>25%</th>\n",
       "      <th>50%</th>\n",
       "      <th>75%</th>\n",
       "      <th>max</th>\n",
       "    </tr>\n",
       "    <tr>\n",
       "      <th>profile_g</th>\n",
       "      <th></th>\n",
       "      <th></th>\n",
       "      <th></th>\n",
       "      <th></th>\n",
       "      <th></th>\n",
       "      <th></th>\n",
       "      <th></th>\n",
       "      <th></th>\n",
       "    </tr>\n",
       "  </thead>\n",
       "  <tbody>\n",
       "    <tr>\n",
       "      <th>Diversidades</th>\n",
       "      <td>85.0</td>\n",
       "      <td>301914.321765</td>\n",
       "      <td>367031.242344</td>\n",
       "      <td>2800.0</td>\n",
       "      <td>125000.0</td>\n",
       "      <td>190000.0</td>\n",
       "      <td>280000.00</td>\n",
       "      <td>1950000.0</td>\n",
       "    </tr>\n",
       "    <tr>\n",
       "      <th>Mujer cis</th>\n",
       "      <td>806.0</td>\n",
       "      <td>217708.858077</td>\n",
       "      <td>182050.554847</td>\n",
       "      <td>1400.0</td>\n",
       "      <td>116000.0</td>\n",
       "      <td>180000.0</td>\n",
       "      <td>248193.75</td>\n",
       "      <td>1878500.0</td>\n",
       "    </tr>\n",
       "    <tr>\n",
       "      <th>Varón cis</th>\n",
       "      <td>3975.0</td>\n",
       "      <td>322777.029197</td>\n",
       "      <td>442612.347688</td>\n",
       "      <td>1100.0</td>\n",
       "      <td>147106.5</td>\n",
       "      <td>225000.0</td>\n",
       "      <td>322827.50</td>\n",
       "      <td>15000000.0</td>\n",
       "    </tr>\n",
       "  </tbody>\n",
       "</table>\n",
       "</div>"
      ],
      "text/plain": [
       "             salary_monthly_NETO                                        \\\n",
       "                           count           mean            std     min   \n",
       "profile_g                                                                \n",
       "Diversidades                85.0  301914.321765  367031.242344  2800.0   \n",
       "Mujer cis                  806.0  217708.858077  182050.554847  1400.0   \n",
       "Varón cis                 3975.0  322777.029197  442612.347688  1100.0   \n",
       "\n",
       "                                                         \n",
       "                   25%       50%        75%         max  \n",
       "profile_g                                                \n",
       "Diversidades  125000.0  190000.0  280000.00   1950000.0  \n",
       "Mujer cis     116000.0  180000.0  248193.75   1878500.0  \n",
       "Varón cis     147106.5  225000.0  322827.50  15000000.0  "
      ]
     },
     "execution_count": 8,
     "metadata": {},
     "output_type": "execute_result"
    }
   ],
   "source": [
    "#Al igual que en la primera parte se va a truncar el dataset a partir las personas que ganen mas de 1000 (primera parte de 10000)\n",
    "\n",
    "df[df.salary_monthly_NETO > 1000][['profile_g','salary_monthly_NETO']].groupby('profile_g').describe()"
   ]
  },
  {
   "cell_type": "code",
   "execution_count": 9,
   "metadata": {
    "executionInfo": {
     "elapsed": 19,
     "status": "ok",
     "timestamp": 1683855341330,
     "user": {
      "displayName": "FRANCISCO BROGIOLO",
      "userId": "09600769728851079113"
     },
     "user_tz": 180
    },
    "id": "uZ1GxkLylHx0"
   },
   "outputs": [],
   "source": [
    "#nivel de significancia\n",
    "alpha = 0.05"
   ]
  },
  {
   "cell_type": "code",
   "execution_count": 10,
   "metadata": {
    "executionInfo": {
     "elapsed": 19,
     "status": "ok",
     "timestamp": 1683855341330,
     "user": {
      "displayName": "FRANCISCO BROGIOLO",
      "userId": "09600769728851079113"
     },
     "user_tz": 180
    },
    "id": "OfzFpDO-lYxk"
   },
   "outputs": [],
   "source": [
    "#declaramos la variable group A y group B en la que perteneceran  los varones cis y el conjunto de mujeres cis con personas de otros generos respectivamente'\n",
    "\n",
    "is_man = df.profile_g == 'Varón cis'\n",
    "\n",
    "groupA = df[(df.salary_monthly_NETO > 1000) & is_man].salary_monthly_NETO\n",
    "groupB = df[(df.salary_monthly_NETO > 1000) & ~is_man].salary_monthly_NETO"
   ]
  },
  {
   "cell_type": "code",
   "execution_count": null,
   "metadata": {
    "executionInfo": {
     "elapsed": 19,
     "status": "ok",
     "timestamp": 1683855341330,
     "user": {
      "displayName": "FRANCISCO BROGIOLO",
      "userId": "09600769728851079113"
     },
     "user_tz": 180
    },
    "id": "LGnuD4wJ7k2-"
   },
   "outputs": [],
   "source": []
  },
  {
   "cell_type": "markdown",
   "metadata": {
    "id": "co_0M_ojtmUh"
   },
   "source": [
    "## Ejercicio 1: Estimación\n",
    "\n",
    "**Consigna:**  Calcular una estimación puntual y un intervalo de confianza de nivel (1-alpha) para la resta entre la media del salario Neto para Hombres menos la media del salario Neto para otros géneros(diferencia de las medias entre el grupoA y grupoB). \n",
    "¿Cómo se relaciona este intervalo de confianza con el test de hipótesis?"
   ]
  },
  {
   "cell_type": "markdown",
   "metadata": {
    "id": "ezbKEj5ZqtRO"
   },
   "source": [
    "Estimación puntual: la media para cada grupo"
   ]
  },
  {
   "cell_type": "code",
   "execution_count": 11,
   "metadata": {
    "colab": {
     "base_uri": "https://localhost:8080/"
    },
    "executionInfo": {
     "elapsed": 20,
     "status": "ok",
     "timestamp": 1683855341331,
     "user": {
      "displayName": "FRANCISCO BROGIOLO",
      "userId": "09600769728851079113"
     },
     "user_tz": 180
    },
    "id": "0fA1RQ0upe6N",
    "outputId": "680ca881-0405-4a2a-f222-f6aa28b1de0b"
   },
   "outputs": [
    {
     "name": "stdout",
     "output_type": "stream",
     "text": [
      "Media hombres  322777.02919748425\n",
      "Media otros  225741.927003367\n"
     ]
    }
   ],
   "source": [
    "#Queremos conocer el valor medio del salario neto para los distintos grupos\n",
    "\n",
    "print(\"Media hombres \", groupA.mean())\n",
    "print(\"Media otros \", groupB.mean())"
   ]
  },
  {
   "cell_type": "code",
   "execution_count": 12,
   "metadata": {
    "colab": {
     "base_uri": "https://localhost:8080/"
    },
    "executionInfo": {
     "elapsed": 19,
     "status": "ok",
     "timestamp": 1683855341331,
     "user": {
      "displayName": "FRANCISCO BROGIOLO",
      "userId": "09600769728851079113"
     },
     "user_tz": 180
    },
    "id": "o9apyQZmyTDA",
    "outputId": "f639d029-f5bb-4731-d4c7-c1a8ce3e75ad"
   },
   "outputs": [
    {
     "name": "stdout",
     "output_type": "stream",
     "text": [
      "Cantidad hombres  3975  Desviación estandar  442612.34768776165\n",
      "Cantidad otros  891  Desviación estandar  208096.34545743797\n"
     ]
    }
   ],
   "source": [
    "#Queremos conocer la cantidad de personas que conforman el grupo A y el grupo B y que desviación estandar tienen el salario neto en esos grupos\n",
    "\n",
    "print(\"Cantidad hombres \" , groupA.count(), \" Desviación estandar \",groupA.std())\n",
    "print(\"Cantidad otros \", groupB.count(),\" Desviación estandar \", groupB.std())"
   ]
  },
  {
   "cell_type": "markdown",
   "metadata": {
    "id": "chVgEhyCgwmG"
   },
   "source": [
    "Como el grupo A y grupo B tienen distinto tamaño y distinta varianza, utilizaremos el método de Welch para calcular el intervalo de confianza."
   ]
  },
  {
   "cell_type": "code",
   "execution_count": 13,
   "metadata": {
    "colab": {
     "base_uri": "https://localhost:8080/"
    },
    "executionInfo": {
     "elapsed": 18,
     "status": "ok",
     "timestamp": 1683855341331,
     "user": {
      "displayName": "FRANCISCO BROGIOLO",
      "userId": "09600769728851079113"
     },
     "user_tz": 180
    },
    "id": "7-6AQGLsiO-7",
    "outputId": "b8f75a45-2e17-41bd-8ef8-342fd0654edf"
   },
   "outputs": [
    {
     "name": "stdout",
     "output_type": "stream",
     "text": [
      "Intervalo de confianza (95%): (77638.89855634535, 116431.30583188919)\n"
     ]
    }
   ],
   "source": [
    "import scipy.stats as stats\n",
    "import numpy as np\n",
    "import math\n",
    "\n",
    "x = groupA\n",
    "y = groupB\n",
    "n_x = len(x)\n",
    "n_y = len(y)\n",
    "s_x = np.std(x, ddof=1)\n",
    "s_y = np.std(y, ddof=1)\n",
    "t, p = stats.ttest_ind(x, y, equal_var=False)\n",
    "se = np.sqrt((s_x**2)/n_x + (s_y**2)/n_y)\n",
    "ci = stats.t.interval(0.95, n_x + n_y - 2, loc=np.mean(x) - np.mean(y), scale=se)\n",
    "\n",
    "\n",
    "print(f\"Intervalo de confianza (95%): {ci}\")\n"
   ]
  },
  {
   "cell_type": "markdown",
   "metadata": {
    "id": "EkOCeX9SsPaW"
   },
   "source": [
    "Lo que se obtuvo quiere decir que en el 95% de los casos la diferencia entre el salario medio neto de las varones cis y del grupo que comprende las mujeres cis y diversidades, estara entre 77638,899 y 116431,306. \n",
    "\n",
    "Por otro lado, la relación que encontramos entre este intervalo de confianza y el test de hipótesis es que como el intervalo está notablemente por encima de 0, lo que esperamos obtener en el test de hipótesis del punto 2 es que las medias no sean iguales.\n"
   ]
  },
  {
   "cell_type": "markdown",
   "metadata": {
    "id": "IFi2T7Y6nM92"
   },
   "source": [
    "## Ejercicio 2: Test de hipótesis\n"
   ]
  },
  {
   "cell_type": "markdown",
   "metadata": {
    "id": "Rzxe8UYU6EfJ"
   },
   "source": [
    "\n",
    "### 2.1 Formalización\n",
    "\n",
    "Describir formalmente los distintos componentes de un test de hipótesis para comprobar si la distribución de los salarios es distinta entre los grupos A y B.\n",
    "\n",
    "**Hipótesis Nula**\n",
    "\n",
    "$H_0=...$\n",
    "\n",
    "**Estadístico (Pivote)**\n",
    "  * Identificar el estadístico\n",
    "  * Escribir qué distribución tiene bajo $H_0$\n"
   ]
  },
  {
   "cell_type": "markdown",
   "metadata": {
    "id": "Nbdu9Bgeuk-p"
   },
   "source": [
    "###**Componentes del test de hipotesis**\n",
    "\n",
    "**Hipotesis nula $H_0$**: media de los salarios netos del grupo A es igual a la media de los salarios del grupo B \n",
    "\n",
    "$H_0: u_1 = u_2$\n",
    "\n",
    "**Hipotesis alternativa $H_1$**: distribucion de los salarios netos del grupo A es distinta a la distibucion de los salarios del grupo B\n",
    "\n",
    "$H_1: u_1 <> u_2$\n",
    "\n",
    "Al tratarse de una comparación de medias, el **estadístico** que vamos a utilizar en este caso es el estadistico $t$ del test de Welch debido que el numero de muestras y varianza de los grupos no son iguales. La distribución del estadístico bajo la hipótesis nula sigue una distribucion de $t$ de Welch, que es una variante de t Student \n",
    "\n",
    "$T = \\frac{(\\overline{X}-\\overline{Y}) - (\\overline{u1}-\\overline{u2})}{S \\sqrt{(n1+n2)/(n1n2)}} $\n"
   ]
  },
  {
   "cell_type": "markdown",
   "metadata": {
    "id": "3Ip_5YdenC8u"
   },
   "source": [
    "### 2.2 P-valor\n",
    "\n",
    "1. Calcule el p-valor y decida si rechazar o no la hipótesis nula.\n",
    "2. Interprete el resultado.\n",
    "\n",
    "Links útiles:\n",
    "* [Test de hipótesis usando scipy](https://docs.scipy.org/doc/scipy/reference/generated/scipy.stats.ttest_ind.html)\n",
    "* [Test de Welch](http://daniellakens.blogspot.com/2015/01/always-use-welchs-t-test-instead-of.html)"
   ]
  },
  {
   "cell_type": "code",
   "execution_count": 14,
   "metadata": {
    "colab": {
     "base_uri": "https://localhost:8080/"
    },
    "executionInfo": {
     "elapsed": 18,
     "status": "ok",
     "timestamp": 1683855341332,
     "user": {
      "displayName": "FRANCISCO BROGIOLO",
      "userId": "09600769728851079113"
     },
     "user_tz": 180
    },
    "id": "gFURtXWX2EyV",
    "outputId": "5aac8e77-46b4-4b80-f18e-2fbf289de7db"
   },
   "outputs": [
    {
     "name": "stdout",
     "output_type": "stream",
     "text": [
      "Estadístico t: 9.808\n",
      "p-valor: 0.000\n",
      "Rechazamos la hipótesis nula.\n"
     ]
    }
   ],
   "source": [
    "#Estableciendo nuestro nivel de significancia alpha = 0,05 vamos a verificar si el p valor es menor o mayor igual para tomar la decison\n",
    "#de rechazar o aceptar la hipotesis nula \n",
    "\n",
    "import scipy.stats as stats\n",
    "import numpy as np\n",
    "import math\n",
    "\n",
    "x = groupA\n",
    "y = groupB\n",
    "n_x = len(x)\n",
    "n_y = len(y)\n",
    "s_x = np.std(x, ddof=1)\n",
    "s_y = np.std(y, ddof=1)\n",
    "t, pval = stats.ttest_ind(x, y, equal_var=False)\n",
    "\n",
    "\n",
    "print(f\"Estadístico t: {t:.3f}\")\n",
    "print(f\"p-valor: {pval:.3f}\")\n",
    "\n",
    "if pval < alpha:\n",
    "  print(\"Rechazamos la hipótesis nula.\") \n",
    "else:\n",
    "  print(\"No podemos rechazar la hipótesis nula.\")\n",
    "\n"
   ]
  },
  {
   "cell_type": "markdown",
   "metadata": {
    "id": "abn6Dj85GdHd"
   },
   "source": [
    "Debido a que el p-valor es menor que el nivel de significancia rechazamos la hipótesis nula. La media de los salarios netos del grupo A es distinta a la media de los salarios netos del grupo B por lo que este análisis ya nos llevaría a pensar que los salarios netos del grupo A y B no están igualmente distribuidos "
   ]
  },
  {
   "cell_type": "markdown",
   "metadata": {
    "id": "8VxiQr5YrQYR"
   },
   "source": [
    "### [Opcional] 2.3 Potencia del test\n",
    "\n",
    "Nuestra muestra, ¿era lo suficientemente grande para detectar si existe o no una diferencia entre los grupos?\n",
    "\n",
    "1. Utilice la función `tt_ind_solve_power` para calcular el tamaño necesario de la muestra para un poder estadístico de 0.8, 0.9 y 0.95, asumiendo una significancia estadística de 0.05.\n",
    "2. ¿Cómo intepretan el poder estadístico de un test? Dado su conocimiento de dominio sobre los datos, ¿les parece que esta muestra es lo suficientemente grande para ser representativo de la tendencia general? ¿y para utilizarlo en un juicio penal contra una empresa XX por una causa de discriminación?\n",
    "\n",
    "[Documentación](https://www.statsmodels.org/stable/generated/statsmodels.stats.power.tt_ind_solve_power.html)\n",
    "\n",
    "NOTA: este análisis debería hacerse ANTES de recolectar los datos."
   ]
  },
  {
   "cell_type": "code",
   "execution_count": 15,
   "metadata": {
    "executionInfo": {
     "elapsed": 17,
     "status": "ok",
     "timestamp": 1683855341332,
     "user": {
      "displayName": "FRANCISCO BROGIOLO",
      "userId": "09600769728851079113"
     },
     "user_tz": 180
    },
    "id": "_IiqGfo4t6Db"
   },
   "outputs": [],
   "source": [
    "from statsmodels.stats.power import tt_ind_solve_power"
   ]
  },
  {
   "cell_type": "code",
   "execution_count": 16,
   "metadata": {
    "executionInfo": {
     "elapsed": 17,
     "status": "ok",
     "timestamp": 1683855341332,
     "user": {
      "displayName": "FRANCISCO BROGIOLO",
      "userId": "09600769728851079113"
     },
     "user_tz": 180
    },
    "id": "LUQ7MA2Apj9x"
   },
   "outputs": [],
   "source": [
    "effect_size = (groupA.mean() - groupB.mean()) / groupB.std()\n",
    "# nobs1=None  - What we want to know\n",
    "alpha = 0.05\n",
    "ratio = len(groupB) / len(groupA)\n"
   ]
  },
  {
   "cell_type": "code",
   "execution_count": 17,
   "metadata": {
    "colab": {
     "base_uri": "https://localhost:8080/"
    },
    "executionInfo": {
     "elapsed": 18,
     "status": "ok",
     "timestamp": 1683855341333,
     "user": {
      "displayName": "FRANCISCO BROGIOLO",
      "userId": "09600769728851079113"
     },
     "user_tz": 180
    },
    "id": "cvHcpY-3ty8Q",
    "outputId": "17ed4938-58a1-49e7-85e9-293126e92d95"
   },
   "outputs": [
    {
     "data": {
      "text/plain": [
       "198.72009534639568"
      ]
     },
     "execution_count": 17,
     "metadata": {},
     "output_type": "execute_result"
    }
   ],
   "source": [
    "tt_ind_solve_power(effect_size=effect_size, alpha=alpha,power=0.8,  ratio=ratio)"
   ]
  },
  {
   "cell_type": "code",
   "execution_count": 18,
   "metadata": {
    "colab": {
     "base_uri": "https://localhost:8080/"
    },
    "executionInfo": {
     "elapsed": 16,
     "status": "ok",
     "timestamp": 1683855341333,
     "user": {
      "displayName": "FRANCISCO BROGIOLO",
      "userId": "09600769728851079113"
     },
     "user_tz": 180
    },
    "id": "sr2i0sECt2XF",
    "outputId": "14ba6925-bae5-403e-98ef-33a5f6f72e9c"
   },
   "outputs": [
    {
     "data": {
      "text/plain": [
       "265.49239170136224"
      ]
     },
     "execution_count": 18,
     "metadata": {},
     "output_type": "execute_result"
    }
   ],
   "source": [
    "tt_ind_solve_power(effect_size=effect_size, alpha=alpha,power=0.9,  ratio=ratio)"
   ]
  },
  {
   "cell_type": "code",
   "execution_count": 19,
   "metadata": {
    "colab": {
     "base_uri": "https://localhost:8080/"
    },
    "executionInfo": {
     "elapsed": 15,
     "status": "ok",
     "timestamp": 1683855341333,
     "user": {
      "displayName": "FRANCISCO BROGIOLO",
      "userId": "09600769728851079113"
     },
     "user_tz": 180
    },
    "id": "-jMyVs4kPc4o",
    "outputId": "a62a465a-e7fc-4951-d5f9-4445502a972e"
   },
   "outputs": [
    {
     "data": {
      "text/plain": [
       "327.9639162815212"
      ]
     },
     "execution_count": 19,
     "metadata": {},
     "output_type": "execute_result"
    }
   ],
   "source": [
    "tt_ind_solve_power(effect_size=effect_size, alpha=alpha,power=0.95,  ratio=ratio)"
   ]
  },
  {
   "cell_type": "markdown",
   "metadata": {
    "id": "ANl6Eg-UOvEW"
   },
   "source": [
    "El poder (power) del test es uno menos la probabilidad de un error de tipo II. Es la probabilidad de que la prueba rechace correctamente la Hipotesis Nula si la Alternativa es verdadera.\n",
    "\n",
    "Utilizando la función `tt_ind_solve_power` y en base a los resultados anteriores se puede concluir que para los 3 poderes estadisticos dados, el tamaño de la muestra es suficientemente grande. Por ejemplo, para un poder del test del 0.95 la muestra deberia ser de 327 elementos y en ambos grupos, existen mas datos"
   ]
  },
  {
   "cell_type": "markdown",
   "metadata": {
    "id": "useKMdPyMod5"
   },
   "source": [
    "## Ejercicio 3: Comunicación y visualización\n",
    "\n",
    "**Consigna:** Seleccionen un resultado que les parezca relevante a partir de alguno de los ejercicios del entregable. Diseñe e implemente una comunicación en base a este mensaje, en un archivo PDF.\n",
    "\n",
    "Elija las palabras y visualización más adecuada para que la comunicación sea entendible, efectiva y se dapte a UNA de las siguientes situaciones:\n",
    "\n",
    "1. Una sección en un artículo de difusión a presentar como parte de una organización sin fines de lucro.\n",
    "No más de 1 página A4 (o dos si los gráficos son muy grandes).\n",
    "  1. Ejemplo: Alguna de las secciones [Los ecosistemas de emprendimiento de América Latina y el Caribe frente al COVID-19: Impactos, necesidades y recomendaciones](https://publications.iadb.org/es/los-ecosistemas-de-emprendimiento-de-america-latina-y-el-caribe-frente-al-covid-19-impactos-necesidades-y-recomendaciones), por ejemplo la sección *2.2. Reacciones de los emprendedores*.\n",
    "  2. Ejemplo: Alguna de las secciones de [The state of gender pay gap in 2021](https://www.payscale.com/data/gender-pay-gap?tk=carousel-ps-rc-job)\n",
    "  3. Puntos clave: \n",
    "    1. Simpleza de los gráficos.\n",
    "    2. Comunicación en lenguaje simple a personas que no son necesariamente expertos de dominio.\n",
    "    2. Selección de UNA oración sobre la que se hace énfasis.\n",
    "    3. No es necesario que mencionen objetivos ni descripciones del conjunto de datos, se supone que eso ya estaría explicado en otras secciones del informe.\n",
    "\n",
    "2. Una publicación científica o reporte técnico interno. No más de una página A4:\n",
    "  2. Ejemplo: La sección de resultados de [IZA DP No. 12914: The Impact of a Minimum Wage Change on the Distribution of Wages and Household Income](https://www.iza.org/publications/dp/12914/the-impact-of-a-minimum-wage-change-on-the-distribution-of-wages-and-household-income).\n",
    "  2. Ejemplo: Alguna de las secciones de [Temporary reduction in daily global CO2 emissions during the COVID-19 forced confinement](https://www.nature.com/articles/s41558-020-0797-x)\n",
    "  3. Puntos clave:\n",
    "    3. Nivel de detalle técnico requerido. Es necesario justificar la validez del análisis.\n",
    "    4. La idea presentada puede ser más compleja. Pueden asumir que la audiencia tiene conocimiento técnico y va a analizar las visualizaciones en detalle. \n",
    "    5. Pueden presentar más en detalle las limitaciones del análisis (significancia estadística, etc.)\n",
    "    2. No es necesario que mencionen objetivos ni descripciones del conjunto de datos, se supone que eso ya estaría explicado en otras secciones del informe.\n",
    "\n",
    "3. Un tweet (o post de LinkedIn) para la cuenta de su empresa consultora que hace análisis de datos. El objetivo es promocionar un análisis de datos abiertos que van a incluir en su portfolio:\n",
    "  1. Ejemplo: [Comparación vacunas covid](https://twitter.com/infobeautiful/status/1381577746527236098?s=20)\n",
    "  2. Ejemplo: [Tweet del BID](https://twitter.com/el_BID/status/1388508583944507396?s=20). Lo valioso de este tweet es que usaron un único número para transmitir un mensaje. Puede ser algo así, o con un gráfico muy simple.\n",
    "  3. Ejemplo: [Cambio climático](https://twitter.com/UNFCCC/status/1387732156190011394?s=20) Es un muy buen ejemplo, excepto que el gráfico no se lee nada y hay que entrar a la publicación original.\n",
    "  3. Ejemplo: [¿Cuánto están los programadores en las empresas?](https://www.linkedin.com/posts/denis-rothman-0b034043_tech-career-work-activity-6793861923269054464-gS6y) (No verificamos la veracidad o seriedad de la fuente).\n",
    "  4. Puntos clave:\n",
    "    1. Su audiencia no va a mirar la visualización por más de unos segundos, y no tiene conocimiento técnico.\n",
    "  3. Tienen que incluir además una *breve* descripción de cómo obtuvieron los datos que están presentando, que no entraría en el tweet.\n"
   ]
  },
  {
   "cell_type": "code",
   "execution_count": 20,
   "metadata": {
    "executionInfo": {
     "elapsed": 15,
     "status": "ok",
     "timestamp": 1683855341334,
     "user": {
      "displayName": "FRANCISCO BROGIOLO",
      "userId": "09600769728851079113"
     },
     "user_tz": 180
    },
    "id": "twwYHUztt45L"
   },
   "outputs": [],
   "source": [
    "#Unimos al grupo de mujeres cis con el grupo de diversidades en un grupo que vamos a llamar \"otro\"\n",
    "df.loc[:,'Género'] = df.profile_g.replace({'Varón Cis': 'Varón Cis','Mujer cis': 'Otro','Diversidades': 'Otro'}).fillna(False)"
   ]
  },
  {
   "cell_type": "code",
   "execution_count": 21,
   "metadata": {
    "colab": {
     "base_uri": "https://localhost:8080/",
     "height": 505
    },
    "executionInfo": {
     "elapsed": 1113,
     "status": "ok",
     "timestamp": 1683855342432,
     "user": {
      "displayName": "FRANCISCO BROGIOLO",
      "userId": "09600769728851079113"
     },
     "user_tz": 180
    },
    "id": "9_VvwPIaHq9F",
    "outputId": "100c9227-42a8-4a82-f811-c814a930991d"
   },
   "outputs": [
    {
     "data": {
      "image/png": "[encoded data removed]",
      "text/plain": [
       "<Figure size 640x480 with 1 Axes>"
      ]
     },
     "metadata": {},
     "output_type": "display_data"
    }
   ],
   "source": [
    "#Decidimos que sería pertinente para el análisis mostrar un grafico de barras en el que se muestren los dos grupos A y B\n",
    "#y se muestre el salario medio neto de cada grupo\n",
    "\n",
    "salario_medio_genero = df[(df.salary_monthly_NETO > 1000)].groupby('Género')['salary_monthly_NETO'].mean()\n",
    "\n",
    "fig, ax = plt.subplots()\n",
    "\n",
    "salario_medio_genero.plot(kind='bar', ax=ax, color='steelblue')\n",
    "ax.set_title('Gráfico de salario medio neto por genero')\n",
    "plt.xticks(rotation=0)\n",
    "\n",
    "#Valores del salario neto medio de cada grupo\n",
    "ax.text(0.8,300000,int(groupA.mean()))\n",
    "ax.text(-0.2,205000,int(groupB.mean()))\n",
    "plt.show()"
   ]
  },
  {
   "cell_type": "markdown",
   "metadata": {
    "id": "H2zQL_MFI-or"
   },
   "source": [
    "####Elegimos la opción de hacer un Tweet\n",
    "\n",
    "\n",
    "-Dentro del mundo laboral de los programadores argentinos, los hombres ganan en promedio entre 70k y 115k más que los otros generos.\n",
    "\n",
    "relevamiento de datos de encuesta anual de Sysarmy a los programadores Argentinos en 2022 \n",
    "\n",
    "Descripción (no va en el twit):\n",
    "-El intervalo de confianza se calculo utilizando el método de Welch\n",
    "-Filtro de salario > 1k"
   ]
  },
  {
   "cell_type": "markdown",
   "metadata": {
    "id": "uxU043bnvH9U"
   },
   "source": [
    "![Twitt Entregable 1.2.png](data:image/png;base64,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)"
   ]
  }
 ],
 "metadata": {
  "colab": {
   "collapsed_sections": [
    "XY2Hl-Ma07Nn",
    "8VxiQr5YrQYR"
   ],
   "provenance": [
    {
     "file_id": "1eRVO67kXRzLyGihvtbJN10b505_nLyr9",
     "timestamp": 1680785378814
    },
    {
     "file_id": "1xPL68eVaR0UF7XTcLU1rCMfpzuS7r6s0",
     "timestamp": 1617233082473
    },
    {
     "file_id": "1bChseZSrdGJSXfa-D2_lS0dx98wplQtD",
     "timestamp": 1614968149245
    }
   ],
   "toc_visible": true
  },
  "kernelspec": {
   "display_name": "Python 3 (ipykernel)",
   "language": "python",
   "name": "python3"
  },
  "language_info": {
   "codemirror_mode": {
    "name": "ipython",
    "version": 3
   },
   "file_extension": ".py",
   "mimetype": "text/x-python",
   "name": "python",
   "nbconvert_exporter": "python",
   "pygments_lexer": "ipython3",
   "version": "3.10.9"
  },
  "varInspector": {
   "cols": {
    "lenName": 16,
    "lenType": 16,
    "lenVar": 40
   },
   "kernels_config": {
    "python": {
     "delete_cmd_postfix": "",
     "delete_cmd_prefix": "del ",
     "library": "var_list.py",
     "varRefreshCmd": "print(var_dic_list())"
    },
    "r": {
     "delete_cmd_postfix": ") ",
     "delete_cmd_prefix": "rm(",
     "library": "var_list.r",
     "varRefreshCmd": "cat(var_dic_list()) "
    }
   },
   "types_to_exclude": [
    "module",
    "function",
    "builtin_function_or_method",
    "instance",
    "_Feature"
   ],
   "window_display": false
  }
 },
 "nbformat": 4,
 "nbformat_minor": 1
}
